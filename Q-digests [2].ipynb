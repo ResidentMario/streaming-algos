{
 "cells": [
  {
   "cell_type": "markdown",
   "metadata": {},
   "source": [
    "# Q-digests\n",
    "\n",
    "* Q-digests are a binary tree whose leaf nodes are value counts for the associated quantiles.\n",
    "* The set of possible buckets are chosen from a binary partition over the set of all possible values, denoted $\\{1, \\ldots,\\sigma\\}$.\n",
    "* Quantiles with too few observations are compressed away when possible. The end result is in an imbalanced binary tree whose nodes are nicely compressed value counts.\n",
    "* The fudamental difference between Q-digests and \"classical\" equi-depth histograms is that Q-digests have overlapping buckets. That is, the boundary points on leaves may overlap with those of nearby leaves.\n",
    "* The compression parameter is $k$.\n",
    "* Every node in the Q-digest follows two invariants.\n",
    "* The first is that the number of elements in any node included in the Q-digest has to satisfy $\\text{count}(v) \\leq \\lfloor n \\:/\\: k \\rfloor$.\n",
    "* The second considition is that any node, parent, and sibling (triangle arrangement) must satisfy $\\text{count}(v) + \\text{count}(v_p) + \\text{count}(v_s) > \\lfloor n \\: / \\: k \\rfloor$\n",
    "* The exceptions to these properties are the root node, obviously, and leaf nodes.\n",
    "* Really only the second property is important, the first is mainly used for proving certain properties.\n",
    "* Define a relation $\\Delta_v \\equiv \\text{count}(v) + \\text{count}(v_l) + \\text{count}(v_r)$. In other words let $\\Delta_v$ be the number of non-leaf, non-root nodes in the tree.\n",
    "* To build a Q-digest, first construct a binary tree whose leaves are individual values. Then, compress the tree by recursively compressing non-root, non-leaf nodes for which $\\Delta_v \\leq \\lfloor n \\: / \\: k \\rfloor$."
   ]
  },
  {
   "cell_type": "code",
   "execution_count": 210,
   "metadata": {},
   "outputs": [],
   "source": [
    "class Node():\n",
    "    def __init__(self, v, l, r):\n",
    "        self.v = v  # value\n",
    "        self.l = l  # left sub-node\n",
    "        self.r = r  # right sub-node\n",
    "        \n",
    "    def get_level(self, level):\n",
    "        nodes = bfs_traverse(self)\n",
    "        return [t[0] for t in nodes if t[1] == level]\n",
    "    \n",
    "    def Δ_v(self):\n",
    "        tot = 0\n",
    "        if self.l:\n",
    "            tot += self.l.v\n",
    "        if self.r:\n",
    "            tot += self.r.v\n",
    "        tot += self.v\n",
    "        return tot\n",
    "        \n",
    "        \n",
    "def bfs_traverse(root, level=0, parent=None):\n",
    "    \"\"\"\n",
    "    Returns an array of tuples whose first element is a node, the second is its depth, and the third its parent.\n",
    "    \"\"\"\n",
    "    ret = [(root, level, parent)]\n",
    "    if root.l:\n",
    "        ret += bfs_traverse(root.l, level + 1, root)\n",
    "    if root.r:\n",
    "        ret += bfs_traverse(root.r, level + 1, root)\n",
    "    return ret            \n",
    "\n",
    "\n",
    "def treeify(values):\n",
    "    \"\"\"\n",
    "    Given a sorted list of value, returns a binary tree.\n",
    "    Positions determined by list sort order, values determined by list entry value.\n",
    "    \"\"\"\n",
    "    if len(values) == 0:\n",
    "        return Node(None, None, None)\n",
    "    elif len(values) == 1:\n",
    "        return Node(values[0], None, None)\n",
    "    else:\n",
    "        pivot_idx = len(values) // 2\n",
    "        left = treeify(values[:pivot_idx])\n",
    "        right = treeify(values[pivot_idx + 1:])\n",
    "        return Node(values[pivot_idx], left, right)\n",
    "\n",
    "\n",
    "class QDigest():\n",
    "    def __init__(self, k, values):\n",
    "        \"\"\"\n",
    "        K is the compression factor. Values is a sorted list of counts: that is, how often each value of \n",
    "        interest appears. For example if 1 appears twice, 2 appears once, and 3 appears five times, the \n",
    "        values input would be [2, 1, 5] (NOT [1, 2, 3]).\n",
    "        \"\"\"\n",
    "        self.k = k\n",
    "        self.root = treeify(values)\n",
    "        self.compress()\n",
    "        \n",
    "    def get_level(self, level):\n",
    "        \"\"\"Returns pointers to all nodes on the given level.\"\"\"\n",
    "        return self.root.get_level(level)\n",
    "    \n",
    "    def count(self):\n",
    "        \"\"\"Returns a count of all elements on a level.\"\"\"\n",
    "        return sum([n[0].v for n in bfs_traverse(self.root)])\n",
    "    \n",
    "    def compress(self):\n",
    "        \n",
    "        traversed_node_list = bfs_traverse(self.root)\n",
    "        \n",
    "        # The maximum level is the leaf level, but compression occurs at the levels above.\n",
    "        max_level = max([tup[1] for tup in traversed_node_list])\n",
    "        n = sum([tup[0].v for tup in traversed_node_list])\n",
    "        n_div_k = n // self.k\n",
    "        \n",
    "        # Data needed for node traversal.\n",
    "        nodes = [tup[0] for tup in traversed_node_list]\n",
    "        levels = [tup[1] for tup in traversed_node_list]\n",
    "        parents = [tup[2] for tup in traversed_node_list]\n",
    "        \n",
    "        for nlvl in range(max_level - 1, 0, -1):\n",
    "            idxs = [i for i, level in enumerate(levels) if level == nlvl]\n",
    "            \n",
    "            for idx in idxs:\n",
    "                node, parent = nodes[idx], parents[idx]\n",
    "                if node.Δ_v() <= n_div_k:\n",
    "                    print(\"\"\"Compressing node with value {0} at level {1} b/c its total weight {2} is less than {3}.\"\"\".format(\n",
    "                        node.v, levels[idx], node.Δ_v(), n_div_k\n",
    "                    ))\n",
    "                    new_v = node.v\n",
    "                    new_v += node.l.v if node.l else 0\n",
    "                    new_v += node.r.v if node.r else 0\n",
    "                    \n",
    "                    new_node = Node(new_v, None, None)\n",
    "                    if node.v < parent.v:\n",
    "                        parent.l = new_node\n",
    "                    else:\n",
    "                        parent.r = new_node\n",
    "    \n",
    "    def insert(values):\n",
    "        \"\"\"Union operation.\"\"\"\n",
    "        pass"
   ]
  },
  {
   "cell_type": "markdown",
   "metadata": {},
   "source": [
    "* The Q-digest algorithm is designed for providing the data \"all at once\". This is because it is designed in the context of exporting data from a sensor networks, not in the context of online summary statistic calculations.\n",
    "* A `merge` procedure is provided for combining multiple Q-digests. It's straigthforward: take the union of the trees, and re-compress again.\n",
    "* Technically adding a value entry to the tree is the same as merging against.\n",
    "* This implementation could be improved upon..."
   ]
  },
  {
   "cell_type": "code",
   "execution_count": 211,
   "metadata": {
    "scrolled": true
   },
   "outputs": [
    {
     "name": "stdout",
     "output_type": "stream",
     "text": [
      "Compressing node with value 2 at level 1 b/c its total weight 6 is less than 28.\n",
      "Compressing node with value 6 at level 1 b/c its total weight 18 is less than 28.\n"
     ]
    }
   ],
   "source": [
    "q = QDigest(1, [1, 2, 3, 4, 5, 6, 7])"
   ]
  },
  {
   "cell_type": "code",
   "execution_count": 212,
   "metadata": {},
   "outputs": [
    {
     "data": {
      "text/plain": [
       "[(0, 4), (1, 6), (1, 18)]"
      ]
     },
     "execution_count": 212,
     "metadata": {},
     "output_type": "execute_result"
    }
   ],
   "source": [
    "[(tup[1], tup[0].v) for tup in bfs_traverse(q.root)]"
   ]
  },
  {
   "cell_type": "code",
   "execution_count": 135,
   "metadata": {},
   "outputs": [
    {
     "data": {
      "text/plain": [
       "<__main__.QDigest at 0x111f35198>"
      ]
     },
     "execution_count": 135,
     "metadata": {},
     "output_type": "execute_result"
    }
   ],
   "source": [
    "QDigest(5, [5, 4, 3])"
   ]
  },
  {
   "cell_type": "code",
   "execution_count": 123,
   "metadata": {},
   "outputs": [
    {
     "data": {
      "text/plain": [
       "<__main__.Node at 0x111f6ab38>"
      ]
     },
     "execution_count": 123,
     "metadata": {},
     "output_type": "execute_result"
    }
   ],
   "source": [
    "QDigest(5, [5, 4, 3]).root.l"
   ]
  }
 ],
 "metadata": {
  "kernelspec": {
   "display_name": "Python 3",
   "language": "python",
   "name": "python3"
  },
  "language_info": {
   "codemirror_mode": {
    "name": "ipython",
    "version": 3
   },
   "file_extension": ".py",
   "mimetype": "text/x-python",
   "name": "python",
   "nbconvert_exporter": "python",
   "pygments_lexer": "ipython3",
   "version": "3.6.4"
  }
 },
 "nbformat": 4,
 "nbformat_minor": 2
}
