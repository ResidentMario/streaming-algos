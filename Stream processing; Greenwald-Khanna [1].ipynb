{
 "cells": [
  {
   "cell_type": "markdown",
   "metadata": {},
   "source": [
    "# Stream rank statistics algorithms\n",
    "\n",
    "## Problem statement\n",
    "\n",
    "* Rank statistics are statistics that select, consider, or compute over percentiles on ordinal data types.\n",
    "* In systems programming rank systems come to the forefront when considering performance characteristics of large systems. For example, the 99-percentile of response times for some type of user query.\n",
    "* Computing this value with exact accuracy requires as many values as there are requests. For systems of sufficiently large scale, this is infeasible.\n",
    "* Instead we may use a variety of algorithms for estimating percentiles, within certain confidence intervals.\n",
    "* These algorithms are stream algorithms because they operate on a contiuous stream of data, and rank algorithms because they aggregate via rank statistics. Thus, stream rank statistics algorithms.\n",
    "\n",
    "# GK\n",
    "\n",
    "* GK (Greenwald-Khanna) is a first example of such an algo.\n",
    "* In GK we maintain an ordered list of tuples of the form $(v, g, \\Delta)$. The ordering is in $v$.\n",
    "* $v$ is a value from the data stream.\n",
    "* $g$ is a value defined such that summing $g$ values from the bottom to a specific tuple gives you the minimum  rank for that tuple's $v$. The rank is numerical: e.g. it's an index position.\n",
    "* $\\Delta$ is likewise defined such that adding the sum of its values across the associated tuples to $g$ gives a maximum percentile estimate.\n",
    "* $n$ is the number of values that have been seen thus far.\n",
    "* The invariant conditions is that for any tuple, $g+\\Delta \\leq 2 \\cdot \\varepsilon \\cdot n$. This a rank error boundary; we are stating that maximum (two-sided) error for the hypothesized rank be within the an error boundary conditioned on the chosen $\\varepsilon$.\n",
    "* Useful $\\varepsilon$ values are dependent on the percentile sigfigs desired. 10 makes sense for a 90 percentile, and 99.9 requires a 0.01.\n",
    "* Every new observation is inserted into the list in two steps.\n",
    "* First, the `insert` routine pushes a new tuple into the list of the form $\\{v, 1, \\lfloor(2 * ε * n)\\rfloor\\}$ if the value is neither a minimum or maximum, and $\\{v, 1, 0\\}$ otherwise.\n",
    "* Try running just the code block below to see just the `insert` operation in action:"
   ]
  },
  {
   "cell_type": "code",
   "execution_count": 102,
   "metadata": {},
   "outputs": [],
   "source": [
    "from collections import namedtuple\n",
    "\n",
    "Tuple = namedtuple('Tuple', 'v g Δ')\n",
    "\n",
    "class GreenwaldKhanna:\n",
    "    def __init__(self, ε):\n",
    "        self.S = []\n",
    "        self.ε = ε\n",
    "        self.n = 0\n",
    "        \n",
    "    def insert(self, v):\n",
    "        idx = 0\n",
    "        for t in self.S:\n",
    "            if (v < t.v):\n",
    "                break\n",
    "            else:\n",
    "                idx += 1\n",
    "        \n",
    "        if (idx == 0 or idx == len(self.S)):\n",
    "            Δ = 0\n",
    "        else:\n",
    "            Δ = round(2 * self.ε * self.n)\n",
    "        \n",
    "        tup = namedtuple('Tuple', 'v g Δ')\n",
    "        self.S.insert(idx, tup(v=v, g=1, Δ=Δ))\n",
    "        self.n += 1"
   ]
  },
  {
   "cell_type": "code",
   "execution_count": 107,
   "metadata": {},
   "outputs": [
    {
     "data": {
      "text/plain": [
       "[Tuple(v=0.05808361216819946, g=1, Δ=0),\n",
       " Tuple(v=0.15599452033620265, g=1, Δ=0),\n",
       " Tuple(v=0.15601864044243652, g=1, Δ=0),\n",
       " Tuple(v=0.3745401188473625, g=1, Δ=0),\n",
       " Tuple(v=0.5986584841970366, g=1, Δ=1),\n",
       " Tuple(v=0.6011150117432088, g=1, Δ=2),\n",
       " Tuple(v=0.7080725777960455, g=1, Δ=2),\n",
       " Tuple(v=0.7319939418114051, g=1, Δ=0),\n",
       " Tuple(v=0.8661761457749352, g=1, Δ=1),\n",
       " Tuple(v=0.9507143064099162, g=1, Δ=0)]"
      ]
     },
     "execution_count": 107,
     "metadata": {},
     "output_type": "execute_result"
    }
   ],
   "source": [
    "GK = GreenwaldKhanna(0.1)\n",
    "import numpy as np\n",
    "np.random.seed(42)\n",
    "for n in np.random.random(10):\n",
    "    GK.insert(n)\n",
    "GK.S"
   ]
  },
  {
   "cell_type": "markdown",
   "metadata": {},
   "source": [
    "* Because $\\Delta$ is a function of the number of values inserted thus far, it will grow linearly with the number of values inserted, starting at 0 and going up to $\\lfloor 2 \\cdot \\varepsilon \\cdot n \\rfloor$.\n",
    "* The boundaries produced by this version of `insert` are technically correct, but useless, because the delta-bounds are uselessly large (try it out yourself by changing the number of random values generated in the code above).\n",
    "* The true heart of this algorithm is the `compress` routine. This routine limits the number of tuples included in the dataset, by retaining only the essential information.\n",
    "* Essentially it is just a method call at the end of `insert` that removes tuples that removes tuples from the list by smudging the boundaries of the tuples on either side of it, so long as the resulting error boundary does not exceed the boundary set by the invariant condition."
   ]
  },
  {
   "cell_type": "code",
   "execution_count": 197,
   "metadata": {},
   "outputs": [],
   "source": [
    "from collections import namedtuple\n",
    "\n",
    "Tuple = namedtuple('Tuple', 'v g Δ')\n",
    "\n",
    "class GreenwaldKhanna:\n",
    "    def __init__(self, ε):\n",
    "        self.S = []\n",
    "        self.ε = ε\n",
    "        self.n = 0\n",
    "        \n",
    "    def insert(self, v):\n",
    "        idx = 0\n",
    "        for t in self.S:\n",
    "            if (v < t.v):\n",
    "                break\n",
    "            else:\n",
    "                idx += 1\n",
    "        \n",
    "        if (idx == 0 or idx == len(self.S)):\n",
    "            Δ = 0\n",
    "        else:\n",
    "            Δ = round(2 * self.ε * self.n)\n",
    "        \n",
    "        tup = namedtuple('Tuple', 'v g Δ')\n",
    "        self.S.insert(idx, tup(v=v, g=1, Δ=Δ))\n",
    "        self.n += 1\n",
    "        self.compress()\n",
    "        \n",
    "    def compress(self):\n",
    "        i = 0\n",
    "        while(i < len(self.S) - 1):\n",
    "            if(self.S[i].g + self.S[i + 1].g + self.S[i + 1].Δ <= round(2 * self.ε * self.n)):\n",
    "                prior = self.S[i + 1]\n",
    "                self.S[i + 1] = Tuple(v=prior.v, g=prior.g + self.S[i].g, Δ=self.S[i].Δ)\n",
    "                del self.S[i]\n",
    "                i -= 1\n",
    "            i += 1"
   ]
  },
  {
   "cell_type": "markdown",
   "metadata": {},
   "source": [
    "Witness this tuple volume reduction:"
   ]
  },
  {
   "cell_type": "code",
   "execution_count": 200,
   "metadata": {
    "scrolled": true
   },
   "outputs": [],
   "source": [
    "GK = GreenwaldKhanna(0.1)\n",
    "import numpy as np\n",
    "np.random.seed(42)\n",
    "for n in np.random.random(1000):\n",
    "    GK.insert(n)"
   ]
  },
  {
   "cell_type": "code",
   "execution_count": 201,
   "metadata": {},
   "outputs": [
    {
     "data": {
      "text/plain": [
       "[Tuple(v=0.15599452033620265, g=175, Δ=0),\n",
       " Tuple(v=0.19068772066366657, g=10, Δ=192),\n",
       " Tuple(v=0.1959828624191452, g=37, Δ=157),\n",
       " Tuple(v=0.24317219099945409, g=9, Δ=195),\n",
       " Tuple(v=0.2464020332391068, g=1, Δ=198),\n",
       " Tuple(v=0.25179905890695276, g=12, Δ=192),\n",
       " Tuple(v=0.27074467314355377, g=6, Δ=195),\n",
       " Tuple(v=0.2721451372299627, g=1, Δ=198),\n",
       " Tuple(v=0.2820345725713065, g=41, Δ=187),\n",
       " Tuple(v=0.297121715623175, g=3, Δ=193),\n",
       " Tuple(v=0.3180034749718639, g=31, Δ=179),\n",
       " Tuple(v=0.35567271646494913, g=2, Δ=196),\n",
       " Tuple(v=0.3609738969400268, g=1, Δ=199),\n",
       " Tuple(v=0.370472102791382, g=24, Δ=181),\n",
       " Tuple(v=0.3745401188473625, g=40, Δ=174),\n",
       " Tuple(v=0.38929561404197655, g=2, Δ=191),\n",
       " Tuple(v=0.42521350446923345, g=8, Δ=191),\n",
       " Tuple(v=0.42899402737501835, g=32, Δ=169),\n",
       " Tuple(v=0.44600577295795574, g=1, Δ=200),\n",
       " Tuple(v=0.4524395161326934, g=6, Δ=197),\n",
       " Tuple(v=0.45606998421703593, g=27, Δ=172),\n",
       " Tuple(v=0.49636624720123634, g=3, Δ=194),\n",
       " Tuple(v=0.4984421989290573, g=15, Δ=184),\n",
       " Tuple(v=0.5113423988609378, g=20, Δ=170),\n",
       " Tuple(v=0.5371065418185478, g=12, Δ=191),\n",
       " Tuple(v=0.5492266647061205, g=24, Δ=185),\n",
       " Tuple(v=0.5664046402968972, g=3, Δ=183),\n",
       " Tuple(v=0.5902949425148077, g=11, Δ=199),\n",
       " Tuple(v=0.5974131021703083, g=3, Δ=196),\n",
       " Tuple(v=0.5978999788110851, g=48, Δ=170),\n",
       " Tuple(v=0.6334782198261473, g=3, Δ=192),\n",
       " Tuple(v=0.6408747448032146, g=23, Δ=182),\n",
       " Tuple(v=0.662522284353982, g=44, Δ=188),\n",
       " Tuple(v=0.6946964708544268, g=1, Δ=198),\n",
       " Tuple(v=0.7222669318556592, g=9, Δ=197),\n",
       " Tuple(v=0.7281887562036033, g=1, Δ=197),\n",
       " Tuple(v=0.7319939418114051, g=52, Δ=160),\n",
       " Tuple(v=0.7380336164263704, g=2, Δ=194),\n",
       " Tuple(v=0.794025189270296, g=13, Δ=196),\n",
       " Tuple(v=0.7999160853731894, g=3, Δ=198),\n",
       " Tuple(v=0.8127995672575026, g=35, Δ=164),\n",
       " Tuple(v=0.8154614284548342, g=23, Δ=146),\n",
       " Tuple(v=0.8191023176741997, g=1, Δ=198),\n",
       " Tuple(v=0.8698963620621283, g=11, Δ=189),\n",
       " Tuple(v=0.8877041827582998, g=27, Δ=190),\n",
       " Tuple(v=0.8945522268940914, g=1, Δ=184),\n",
       " Tuple(v=0.8948273504276488, g=28, Δ=181),\n",
       " Tuple(v=0.936829739324758, g=4, Δ=199),\n",
       " Tuple(v=0.9472833396118153, g=17, Δ=187),\n",
       " Tuple(v=0.9502373538208024, g=1, Δ=200),\n",
       " Tuple(v=0.9548652806631941, g=35, Δ=183),\n",
       " Tuple(v=0.9717820827209607, g=24, Δ=169),\n",
       " Tuple(v=0.9997176732861306, g=34, Δ=186)]"
      ]
     },
     "execution_count": 201,
     "metadata": {},
     "output_type": "execute_result"
    }
   ],
   "source": [
    "GK.S"
   ]
  },
  {
   "cell_type": "markdown",
   "metadata": {},
   "source": [
    "* To get a percentile rank we can descend down the list and stop at the first tuple within our desired error boundaries."
   ]
  },
  {
   "cell_type": "code",
   "execution_count": 211,
   "metadata": {},
   "outputs": [],
   "source": [
    "def rank(GK, r):\n",
    "    rMin = 0\n",
    "    rMax = 0\n",
    "    for tup in GK.S:\n",
    "        rMin += tup.g\n",
    "        rMax = rMin + tup.Δ\n",
    "        \n",
    "        # print(r - rMin, GK.ε * GK.n, rMax - r, GK.ε * GK.n)\n",
    "        \n",
    "        if (r - rMin <= GK.ε * GK.n) and (rMax - r <= GK.ε * GK.n):\n",
    "            return tup.v"
   ]
  },
  {
   "cell_type": "code",
   "execution_count": 212,
   "metadata": {},
   "outputs": [
    {
     "data": {
      "text/plain": [
       "0.8154614284548342"
      ]
     },
     "execution_count": 212,
     "metadata": {},
     "output_type": "execute_result"
    }
   ],
   "source": [
    "rank(GK, 900)"
   ]
  },
  {
   "cell_type": "markdown",
   "metadata": {},
   "source": [
    "* This algorithm has the best space performance amongst stream rank statistic algorithms.\n",
    "* However, when $\\varepsilon$ is small, it can get computationally expensive, as it requires a list scan."
   ]
  }
 ],
 "metadata": {
  "kernelspec": {
   "display_name": "Python 3",
   "language": "python",
   "name": "python3"
  },
  "language_info": {
   "codemirror_mode": {
    "name": "ipython",
    "version": 3
   },
   "file_extension": ".py",
   "mimetype": "text/x-python",
   "name": "python",
   "nbconvert_exporter": "python",
   "pygments_lexer": "ipython3",
   "version": "3.6.4"
  }
 },
 "nbformat": 4,
 "nbformat_minor": 2
}
