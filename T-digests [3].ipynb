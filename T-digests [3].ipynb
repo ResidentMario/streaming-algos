{
 "cells": [
  {
   "cell_type": "markdown",
   "metadata": {},
   "source": [
    "# t-digests\n",
    "\n",
    "## Introduction\n",
    "\n",
    "* T-digests are a refinement on Q-digests. It adapts them to the streaming setting.\n",
    "* The problem with Q-digests is that they require the possible values be known in advance, which limits the maximum granularity of observations (and bins).\n",
    "* T-digests have three interesting algorithmic features.\n",
    "* First, the ranges of data included in bins may overlap.\n",
    "* Second, bins are summarized by a centroid value and an accumulated weight representing the number of samples contributing to the bin.\n",
    "* Third, samples are accumulated such that only a few may contribute to bins corresponding with extreme quantiles. This results in bounded quantile estimation error instead of constant error.\n",
    "* More specifically, the t-digests is constructed in such a way that the error for quantile $q$ is constant relative to $q(1-q)$. Thus quantiles that are further towards the edges of the distribution are more accurately recorded. This is good for streaming purposes!\n",
    "* There are two competing t-digest algorithmic implementations. One is a buffer-and-merge algorithm, the other is a cluster-based algorithm. There are some tradeoffs in choosing one or the other.\n",
    "\n",
    "## Conceptual description\n",
    "\n",
    "* Suppose ordered samples $X = x_1,\\ldots,x_n$. Group the sequence into subsequences $X = \\{s_1 | s_2 | \\ldots | s_m\\}$, where $s_i = \\{x_{\\text{left}(i)}, x_{\\text{right}(i)}\\}$.\n",
    "* As an aside, we allow subsequences near the ends to be small, and subsequences near the middle to be large.\n",
    "* Define a t-digest scaling function $k(q, \\delta)$ which maps every quantile $q$ to a notional index $k$, subject to compression parameter $\\delta$.\n",
    "* A t-digest scaling function is valid so long as it is monotonic increasing and maps the domain $[0, 1]$ to range $[0, \\delta]$.\n",
    "* To get the scaling properties we want we choose the following scaling function:\n",
    "\n",
    "$$k(q, \\delta) = \\delta \\times \\left(\\frac{sin^{-1}(2q - 1)}{\\pi} + \\frac{1}{2}\\right)$$\n",
    "\n",
    "* The $k$-size of subsequence $i$ ($s_i$), $K(i)$, is the distance between its minimum and maximum value when k-transformed. We require this to be less than 1. Formally:\n",
    "\n",
    "$$K(i) = k(\\text{right}(i)/n, \\delta) - k((\\text{left}(i) - 1)/n, \\delta) \\leq 1$$\n",
    "\n",
    "* Furthermore, we require that adjacent subsequences be of a $k$-size of at least 1:\n",
    "\n",
    "$$\\forall i \\in \\{1,\\ldots,m-1\\}. \\: K(i) + K(i + 1) > 1$$\n",
    "\n",
    "* This first condition is an upper bound on the size of any particular subsequence, and this second condition is a lower bound.\n",
    "* Why do we need this transform? The larger the distance between two quantiles in the transformed space, the harder it will be to construct large subsequences in that space that satisfy these two conditions. Here is the space that we get when we run the quantiles through the scaling function:"
   ]
  },
  {
   "cell_type": "code",
   "execution_count": 11,
   "metadata": {},
   "outputs": [
    {
     "data": {
      "text/plain": [
       "[<matplotlib.lines.Line2D at 0x11cdec160>]"
      ]
     },
     "execution_count": 11,
     "metadata": {},
     "output_type": "execute_result"
    },
    {
     "data": {
      "image/png": "[encoded data removed]",
      "text/plain": [
       "<Figure size 432x288 with 1 Axes>"
      ]
     },
     "metadata": {},
     "output_type": "display_data"
    }
   ],
   "source": [
    "import numpy as np\n",
    "\n",
    "def t_digest_scaling_function(q, δ):\n",
    "    return δ * ((np.arcsin(2 * q - 1) / np.pi) + 1 / 2)\n",
    "\n",
    "import matplotlib.pyplot as plt\n",
    "qrange = np.linspace(0, 1, 100)\n",
    "\n",
    "plt.plot(qrange, [t_digest_scaling_function(q, 0.05) for q in qrange])"
   ]
  },
  {
   "cell_type": "markdown",
   "metadata": {},
   "source": [
    "* Notice how the resultant space covers much more distance at the far edges of the graph. Subsequences that satisfy the two invariants will be much smaller here than through the rest of the graph, as fewer samples will cover more distance.\n",
    "* Thus the net effect of these invariants is that the subsequences on the edges, near the .9 and .99 and so on quantile range, where we desire to be most accurate, will be far smaller than those through the rest of the graph!\n",
    "* Down the line that'll correspond with non-linear compression; everything in the middle will be much more compressed than things on the edges.\n",
    "* Once we have formed these subspaces, all that remains is doing some interpolation on the bin of interest to get a percentile estimate result."
   ]
  },
  {
   "cell_type": "markdown",
   "metadata": {},
   "source": [
    "## Buffered algorithm\n",
    "\n",
    "Now we can work on the implementation."
   ]
  },
  {
   "cell_type": "code",
   "execution_count": 143,
   "metadata": {},
   "outputs": [],
   "source": [
    "class TDigest():\n",
    "    def __init__(self, δ, X=None):\n",
    "        self.centroids = merge([], X).centroids if X else []\n",
    "        self.δ = δ\n",
    "        \n",
    "    def insert(self, X):\n",
    "        self.centroids = merge(self.centroids, X)\n",
    "        \n",
    "    # TODO: debug this algo.\n",
    "    def quantile(self, x):\n",
    "        t = 0\n",
    "        N = sum([c.count for c in self.centroids])\n",
    "        m = len(self.centroids)\n",
    "        C = self.centroids\n",
    "        \n",
    "        for i in range(0, m - 1):            \n",
    "            C_bar = C[i].mean()\n",
    "            \n",
    "            if i < m - 1:\n",
    "                Δ = (C[i + 1].mean() - C_bar) / 2\n",
    "            else:\n",
    "                Δ = (C_bar - C[i - 1].mean()) / 2\n",
    "                \n",
    "            z = max(-1, (x - C_bar) / Δ)\n",
    "            k_i = C[i].count\n",
    "            if z < 1:\n",
    "                return t / N + k_i / N * (z + 1) / 2\n",
    "            else:\n",
    "                t = t + k_i\n",
    "        \n",
    "        \n",
    "class Centroid():\n",
    "    def __init__(self, sum, count):\n",
    "        self.sum = sum\n",
    "        self.count = count\n",
    "    \n",
    "    def mean(self):\n",
    "        return self.sum / self.count\n",
    "        \n",
    "    def __str__(self):\n",
    "        return \"Centroid(sum={0}, count={1})\".format(self.sum, self.count)\n",
    "\n",
    "    \n",
    "def merge(digest, X):\n",
    "    \"\"\"\n",
    "    Merges the given buffer of new data X into the given digest. Returns a new object.\n",
    "    \"\"\"\n",
    "    # Special case: empty observations list.\n",
    "    if not X:\n",
    "        return digest\n",
    "    \n",
    "    X = sort(digest.centroids, X)\n",
    "    S = sum([x.count for x in X])\n",
    "    C_p = []\n",
    "    q_0 = 0\n",
    "    _q_limit = q_limit(q_0, digest.δ)\n",
    "    σ = X[0]\n",
    "    m = len(digest.centroids)\n",
    "    n = len(X)\n",
    "    \n",
    "    for i in range(1, m + n):  # zero-offset; paper is one-offset\n",
    "        x_i = X[i]\n",
    "        q = q_0 + (σ.count + x_i.count) / S\n",
    "\n",
    "#         print(q, _q_limit)\n",
    "#         import pdb; pdb.set_trace()\n",
    "        if q <= _q_limit:\n",
    "            σ = Centroid(σ.sum + x_i.sum, σ.count + x_i.count)\n",
    "            \n",
    "        else:\n",
    "            C_p.append(σ)\n",
    "            q_0 = q_0 + σ.count / S\n",
    "            _q_limit = q_limit(q_0, digest.δ)\n",
    "            σ = x_i\n",
    "            \n",
    "    # As a special case, the last value is always inserted.\n",
    "    C_p.append(σ)\n",
    "    \n",
    "    digest = TDigest(digest.δ)\n",
    "    digest.centroids = C_p\n",
    "    return digest\n",
    "        \n",
    "\n",
    "def sort(centroids, X):\n",
    "    \"\"\"\n",
    "    Sorts a list of observations X into and with a list of centroids with components sum and count.\n",
    "    \n",
    "    Helper function for merge.\n",
    "    \"\"\"\n",
    "    # Special case: empty digest.\n",
    "    if not X:\n",
    "        return centroids\n",
    "    \n",
    "    # Special case: empty observations list.\n",
    "    # Pre-populate first entry to prevent index out of bounds errors.\n",
    "    if not centroids:\n",
    "        centroids = [Centroid(X[0], 1)]\n",
    "        X = X[1:]\n",
    "    \n",
    "    c_i = 0\n",
    "    for x in sorted(X):\n",
    "        while True:\n",
    "            if x < centroids[c_i].sum / centroids[c_i].count:\n",
    "                centroids.insert(c_i, Centroid(x, 1))\n",
    "                break\n",
    "            else:\n",
    "#             elif x > centroids[c_i].sum / centroids[c_i].count:\n",
    "                if c_i < len(centroids) - 1:\n",
    "                    c_i += 1\n",
    "                else:\n",
    "                    centroids.append(Centroid(x, 1))\n",
    "                    break\n",
    "#             else:  # ==\n",
    "#                 c = centroids[c_i]\n",
    "#                 c.sum += x\n",
    "#                 c.count += 1\n",
    "#                 break\n",
    "    return centroids\n",
    "\n",
    "def k(q, δ):\n",
    "    \"\"\"t-digest scaling function. Helper function.\"\"\"\n",
    "    return δ * ((np.arcsin(2 * q - 1) / np.pi) + 1 / 2)\n",
    "\n",
    "def k_inv(q_trans, δ):\n",
    "    \"\"\"t-digest scaling function inverse. Helper function.\"\"\"    \n",
    "    return (np.sin(np.pi * (q_trans / δ - 1 / 2)) + 1) / 2\n",
    "\n",
    "def q_limit(q, δ):\n",
    "    \"\"\"\n",
    "    For the given quantile q and scaling factor δ, returns the maximum quantile q_limit \n",
    "    such that [q, q_limit] < 1, as per the invariant.\n",
    "    Helper function. Uses k and k_inv, defined above.\n",
    "    \"\"\"\n",
    "    return k_inv(k(q, δ) + 1, δ)"
   ]
  },
  {
   "cell_type": "code",
   "execution_count": 64,
   "metadata": {},
   "outputs": [
    {
     "name": "stdout",
     "output_type": "stream",
     "text": [
      "['Centroid(sum=0, count=1)', 'Centroid(sum=0, count=1)', 'Centroid(sum=1, count=1)', 'Centroid(sum=1, count=1)']\n",
      "['Centroid(sum=0, count=1)', 'Centroid(sum=0, count=1)', 'Centroid(sum=0, count=1)', 'Centroid(sum=1, count=1)', 'Centroid(sum=1, count=1)', 'Centroid(sum=1, count=1)']\n",
      "['Centroid(sum=0, count=1)', 'Centroid(sum=1, count=1)', 'Centroid(sum=2, count=1)']\n",
      "['Centroid(sum=0, count=1)', 'Centroid(sum=1, count=1)', 'Centroid(sum=2, count=1)', 'Centroid(sum=2, count=1)']\n",
      "['Centroid(sum=0, count=1)', 'Centroid(sum=0, count=1)', 'Centroid(sum=1, count=1)', 'Centroid(sum=1, count=1)', 'Centroid(sum=2, count=1)', 'Centroid(sum=3, count=1)']\n",
      "['Centroid(sum=0, count=1)']\n",
      "['Centroid(sum=0, count=1)']\n",
      "[]\n"
     ]
    }
   ],
   "source": [
    "# Sorting tests.\n",
    "\n",
    "r = sort([Centroid(0, 1), Centroid(1, 1)], [0, 1])\n",
    "print([str(_) for _ in r])\n",
    "\n",
    "r = sort([Centroid(0, 1), Centroid(1, 1)], [0, 0, 1, 1])\n",
    "print([str(_) for _ in r])\n",
    "\n",
    "r = sort([Centroid(0, 1), Centroid(1, 1)], [2])\n",
    "print([str(_) for _ in r])\n",
    "\n",
    "r = sort([Centroid(0, 1), Centroid(1, 1)], [2, 2])\n",
    "print([str(_) for _ in r])\n",
    "\n",
    "r = sort([Centroid(0, 1), Centroid(1, 1)], [0, 1, 2, 3])\n",
    "print([str(_) for _ in r])\n",
    "\n",
    "r = sort([], [0])\n",
    "print([str(_) for _ in r])\n",
    "\n",
    "r = sort([Centroid(0, 1)], [])\n",
    "print([str(_) for _ in r])\n",
    "\n",
    "r = sort([], [])\n",
    "print([str(_) for _ in r])"
   ]
  },
  {
   "cell_type": "markdown",
   "metadata": {},
   "source": [
    "The below proves that it works!"
   ]
  },
  {
   "cell_type": "code",
   "execution_count": 144,
   "metadata": {
    "scrolled": true
   },
   "outputs": [
    {
     "data": {
      "text/plain": [
       "['Centroid(sum=10, count=4)', 'Centroid(sum=5, count=1)']"
      ]
     },
     "execution_count": 144,
     "metadata": {},
     "output_type": "execute_result"
    }
   ],
   "source": [
    "r = merge(TDigest(δ=0.8), [1, 2, 3, 4, 5])\n",
    "[str(_) for _ in r.centroids]"
   ]
  },
  {
   "cell_type": "code",
   "execution_count": 150,
   "metadata": {},
   "outputs": [
    {
     "data": {
      "text/plain": [
       "['Centroid(sum=1, count=1)',\n",
       " 'Centroid(sum=2, count=1)',\n",
       " 'Centroid(sum=3, count=1)',\n",
       " 'Centroid(sum=4, count=1)',\n",
       " 'Centroid(sum=5, count=1)']"
      ]
     },
     "execution_count": 150,
     "metadata": {},
     "output_type": "execute_result"
    }
   ],
   "source": [
    "r = merge(TDigest(δ=0.1), [1, 2, 3, 4, 5])\n",
    "[str(_) for _ in r.centroids]"
   ]
  },
  {
   "cell_type": "code",
   "execution_count": 165,
   "metadata": {},
   "outputs": [
    {
     "data": {
      "text/plain": [
       "0.08000000000000002"
      ]
     },
     "execution_count": 165,
     "metadata": {},
     "output_type": "execute_result"
    }
   ],
   "source": [
    "r.quantile(0.9)"
   ]
  },
  {
   "cell_type": "markdown",
   "metadata": {},
   "source": [
    "* Need some notes on how the quantile function works.\n",
    "* Need to debug the quantile function.\n",
    "* There's also an aforementioned clustering approach to this algorithm, which is not all that different. I will not go into it or implement it here."
   ]
  }
 ],
 "metadata": {
  "kernelspec": {
   "display_name": "Python 3",
   "language": "python",
   "name": "python3"
  },
  "language_info": {
   "codemirror_mode": {
    "name": "ipython",
    "version": 3
   },
   "file_extension": ".py",
   "mimetype": "text/x-python",
   "name": "python",
   "nbconvert_exporter": "python",
   "pygments_lexer": "ipython3",
   "version": "3.6.4"
  }
 },
 "nbformat": 4,
 "nbformat_minor": 2
}
